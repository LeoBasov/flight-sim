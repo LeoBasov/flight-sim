{
 "cells": [
  {
   "cell_type": "code",
   "execution_count": 1,
   "id": "14abbacc-3560-4c65-b151-5977ee5896c3",
   "metadata": {},
   "outputs": [],
   "source": [
    "from sympy import *\n",
    "import numpy as np\n",
    "import matplotlib.pyplot as plt"
   ]
  },
  {
   "cell_type": "markdown",
   "id": "c96fc9e5-da7a-4c41-92d0-dd7e3104b438",
   "metadata": {},
   "source": [
    "# Introduction\n",
    "For the following calculations the drag force is ignored wicht leads to the eqaution of motion as\n",
    "\n",
    "$$\n",
    "m \\cdot \\ddot{x} = T - W\n",
    "$$\n",
    "\n",
    "where \n",
    "\n",
    "$$\n",
    "m = m_0 - t \\cdot \\dot{m}\n",
    "$$\n",
    "\n",
    "and\n",
    "\n",
    "$$\n",
    "W = m \\cdot g\n",
    "$$\n",
    "\n",
    "and\n",
    "\n",
    "$$\n",
    "T = c_e \\cdot \\dot{m} = const\n",
    "$$\n",
    "\n",
    "which leads to\n",
    "\n",
    "$$\n",
    "\\dot{m} = \\frac{T}{c_e}\n",
    "$$.\n",
    "\n",
    "For the analysis three dimensionless values are consitiondered\n",
    "\n",
    "$$\n",
    "\\tilde{m}_f = \\frac{m_f}{m_0}\n",
    "$$\n",
    "\n",
    "where $m_0$ is the initial plane mass and $m_f$ is the fuel mass.\n",
    "Additionaly\n",
    "\n",
    "$$\n",
    "\\tilde{T} = \\frac{T}{m_0 \\cdot g}\n",
    "$$\n",
    "\n",
    "and\n",
    "\n",
    "$$\n",
    "t_e \\cdot \\dot{m} = m_f \\rightarrow t_e =  \\frac{c_e \\cdot m_f}{T}\n",
    "$$\n",
    "\n",
    "which leads to\n",
    "\n",
    "$$\n",
    "t_e = \\frac{c_e}{g} \\frac{\\tilde{m}_f}{\\tilde{T}}\n",
    "$$\n",
    "\n",
    "and\n",
    "\n",
    "$$\n",
    "\\tilde{t} = \\frac{t}{t_e} \n",
    "$$\n",
    "\n",
    "and\n",
    "\n",
    "$$\n",
    "\\tilde{\\ddot{x}} = \\frac{\\ddot{x}}{g}.\n",
    "$$"
   ]
  },
  {
   "cell_type": "markdown",
   "id": "a8f1f780-348a-4b74-b0b0-cb1fadb6a2b3",
   "metadata": {},
   "source": [
    "# Dimensionless equation\n",
    "\n",
    "The above to the dimensionless equation\n",
    "\n",
    "$$\n",
    "\\tilde{\\ddot{x}} = \\frac{\\tilde{T}}{1 - \\tilde{t} \\cdot \\tilde{m}_f} - 1.\n",
    "$$\n",
    "\n",
    "using \n",
    "\n",
    "$$\n",
    "\\frac{d v}{d t} = \\tilde{\\ddot{x}} \\cdot g\n",
    "$$\n",
    "\n",
    "and\n",
    "\n",
    "$$\n",
    "\\frac{d v}{d t} = \\frac{d v}{d \\tilde{t}} \\frac{d \\tilde{t}}{d t} = \\frac{1}{t_e} \\frac{d v}{d \\tilde{t}}\n",
    "$$\n",
    "\n",
    "leads to\n",
    "\n",
    "$$\n",
    "\\underbrace{\\frac{1}{t_e \\cdot g} v}_{\\tilde{v}} = \\int \\tilde{\\ddot{x}} \\mathrm{d}\\tilde{t}\n",
    "$$\n",
    "\n",
    "and\n",
    "\n",
    "$$\n",
    "\\underbrace{\\frac{1}{t_e^2 \\cdot g} s}_{\\tilde{s}} = \\int \\tilde{v} \\mathrm{d}\\tilde{t}\n",
    "$$"
   ]
  },
  {
   "cell_type": "code",
   "execution_count": 2,
   "id": "09adcb83-9a9d-45e9-8a15-5f3986cbf09a",
   "metadata": {},
   "outputs": [],
   "source": [
    "t, T, m, q, H = symbols(\"ttilde Ttilde mtilde_f qtilde Htilde\")"
   ]
  },
  {
   "cell_type": "code",
   "execution_count": 3,
   "id": "97e8bca3-b132-4adf-aff8-d2416e618127",
   "metadata": {},
   "outputs": [],
   "source": [
    "xddot = T / (1 - t*m) - 1"
   ]
  },
  {
   "cell_type": "code",
   "execution_count": 4,
   "id": "206fab1f-4a80-48c8-8b65-e7184aabd247",
   "metadata": {},
   "outputs": [
    {
     "data": {
      "text/latex": [
       "$\\displaystyle \\frac{\\tilde{T}}{- \\tilde{m}_{f} \\tilde{t} + 1} - 1$"
      ],
      "text/plain": [
       "Ttilde/(-mtilde_f*ttilde + 1) - 1"
      ]
     },
     "execution_count": 4,
     "metadata": {},
     "output_type": "execute_result"
    }
   ],
   "source": [
    "xddot"
   ]
  },
  {
   "cell_type": "code",
   "execution_count": 5,
   "id": "ae0e0be1-a498-4221-ad41-340a60105db1",
   "metadata": {},
   "outputs": [],
   "source": [
    "xdot = -(T/m)*log(1 - m*t) - t"
   ]
  },
  {
   "cell_type": "code",
   "execution_count": 6,
   "id": "499b8f29-96a6-42ec-b899-f6ace05bbafe",
   "metadata": {},
   "outputs": [
    {
     "data": {
      "text/latex": [
       "$\\displaystyle - \\frac{\\tilde{T} \\log{\\left(- \\tilde{m}_{f} \\tilde{t} + 1 \\right)}}{\\tilde{m}_{f}} - \\tilde{t}$"
      ],
      "text/plain": [
       "-Ttilde*log(-mtilde_f*ttilde + 1)/mtilde_f - ttilde"
      ]
     },
     "execution_count": 6,
     "metadata": {},
     "output_type": "execute_result"
    }
   ],
   "source": [
    "xdot"
   ]
  },
  {
   "cell_type": "code",
   "execution_count": 7,
   "id": "cde2fb0c-8db0-49a3-bf83-659b47d964ae",
   "metadata": {},
   "outputs": [],
   "source": [
    "x = (m*t*(-m + T) + (T - m*t*T)*log(1 - m*t))/(m**2)"
   ]
  },
  {
   "cell_type": "code",
   "execution_count": 8,
   "id": "5483b4ac-7529-46f4-aaf8-65876e787cd5",
   "metadata": {},
   "outputs": [
    {
     "data": {
      "text/latex": [
       "$\\displaystyle \\frac{\\tilde{m}_{f} \\left(\\tilde{T} - \\tilde{m}_{f}\\right) + \\left(- \\tilde{T} \\tilde{m}_{f} + \\tilde{T}\\right) \\log{\\left(1 - \\tilde{m}_{f} \\right)}}{\\tilde{m}_{f}^{2}}$"
      ],
      "text/plain": [
       "(mtilde_f*(Ttilde - mtilde_f) + (-Ttilde*mtilde_f + Ttilde)*log(1 - mtilde_f))/mtilde_f**2"
      ]
     },
     "execution_count": 8,
     "metadata": {},
     "output_type": "execute_result"
    }
   ],
   "source": [
    "x.subs(t, 1)"
   ]
  },
  {
   "cell_type": "code",
   "execution_count": 9,
   "id": "ea79971e-2cfb-4af3-9679-5eb95b883bbf",
   "metadata": {},
   "outputs": [],
   "source": [
    "x0 = x.subs(t, 1)"
   ]
  },
  {
   "cell_type": "code",
   "execution_count": 10,
   "id": "893ec354-b56e-41f9-a7fe-649ecb0f5096",
   "metadata": {},
   "outputs": [],
   "source": [
    "xdot0 = xdot.subs(t, 1)"
   ]
  },
  {
   "cell_type": "code",
   "execution_count": 11,
   "id": "a4f72b3b-26e9-44b6-9670-ed1cbb160369",
   "metadata": {},
   "outputs": [],
   "source": [
    "s = -Rational(1, 2)*t**2 + xdot0*t + x0"
   ]
  },
  {
   "cell_type": "code",
   "execution_count": 12,
   "id": "429a42ab-8389-4b4f-a52f-4a47aae0426e",
   "metadata": {},
   "outputs": [
    {
     "data": {
      "text/latex": [
       "$\\displaystyle - \\frac{\\tilde{t}^{2}}{2} + \\tilde{t} \\left(- \\frac{\\tilde{T} \\log{\\left(1 - \\tilde{m}_{f} \\right)}}{\\tilde{m}_{f}} - 1\\right) + \\frac{\\tilde{m}_{f} \\left(\\tilde{T} - \\tilde{m}_{f}\\right) + \\left(- \\tilde{T} \\tilde{m}_{f} + \\tilde{T}\\right) \\log{\\left(1 - \\tilde{m}_{f} \\right)}}{\\tilde{m}_{f}^{2}}$"
      ],
      "text/plain": [
       "-ttilde**2/2 + ttilde*(-Ttilde*log(1 - mtilde_f)/mtilde_f - 1) + (mtilde_f*(Ttilde - mtilde_f) + (-Ttilde*mtilde_f + Ttilde)*log(1 - mtilde_f))/mtilde_f**2"
      ]
     },
     "execution_count": 12,
     "metadata": {},
     "output_type": "execute_result"
    }
   ],
   "source": [
    "s"
   ]
  },
  {
   "cell_type": "code",
   "execution_count": 13,
   "id": "8450a39f-da6b-464a-9b40-70623f8b4b85",
   "metadata": {},
   "outputs": [],
   "source": [
    "tmax = solve(diff(s, t), t)[0]"
   ]
  },
  {
   "cell_type": "code",
   "execution_count": 14,
   "id": "a9de4c7b-7f96-4402-b1b2-1169a751fbd0",
   "metadata": {},
   "outputs": [
    {
     "data": {
      "text/latex": [
       "$\\displaystyle - \\frac{\\tilde{T} \\log{\\left(1 - \\tilde{m}_{f} \\right)} + \\tilde{m}_{f}}{\\tilde{m}_{f}}$"
      ],
      "text/plain": [
       "-(Ttilde*log(1 - mtilde_f) + mtilde_f)/mtilde_f"
      ]
     },
     "execution_count": 14,
     "metadata": {},
     "output_type": "execute_result"
    }
   ],
   "source": [
    "tmax"
   ]
  },
  {
   "cell_type": "code",
   "execution_count": 15,
   "id": "392ccdce-48ca-4144-9eaf-3ca277c92b64",
   "metadata": {},
   "outputs": [],
   "source": [
    "smax = s.subs(t, tmax).simplify()"
   ]
  },
  {
   "cell_type": "code",
   "execution_count": 16,
   "id": "888490f7-1b34-4ac2-b7da-77ff5f3bc492",
   "metadata": {},
   "outputs": [],
   "source": [
    "sh = smax/H"
   ]
  },
  {
   "cell_type": "code",
   "execution_count": 17,
   "id": "d5e37b5c-da53-4676-939f-0088d25e641a",
   "metadata": {},
   "outputs": [
    {
     "data": {
      "text/latex": [
       "$\\displaystyle \\frac{\\frac{\\tilde{T}^{2} \\log{\\left(1 - \\tilde{m}_{f} \\right)}^{2}}{2} + \\tilde{T} \\tilde{m}_{f} + \\tilde{T} \\log{\\left(1 - \\tilde{m}_{f} \\right)} - \\frac{\\tilde{m}_{f}^{2}}{2}}{\\tilde{H} \\tilde{m}_{f}^{2}}$"
      ],
      "text/plain": [
       "(Ttilde**2*log(1 - mtilde_f)**2/2 + Ttilde*mtilde_f + Ttilde*log(1 - mtilde_f) - mtilde_f**2/2)/(Htilde*mtilde_f**2)"
      ]
     },
     "execution_count": 17,
     "metadata": {},
     "output_type": "execute_result"
    }
   ],
   "source": [
    "sh"
   ]
  },
  {
   "cell_type": "code",
   "execution_count": 18,
   "id": "abbb0781-e31e-4253-860a-d11829c14feb",
   "metadata": {},
   "outputs": [],
   "source": [
    "g = 9.81"
   ]
  },
  {
   "cell_type": "code",
   "execution_count": 19,
   "id": "ec5541f7-260f-40ac-851c-58c255926ae2",
   "metadata": {},
   "outputs": [],
   "source": [
    "ce = symbols(\"c_e\")"
   ]
  },
  {
   "cell_type": "code",
   "execution_count": 20,
   "id": "092ff027-3107-486d-a416-cabea5cf8209",
   "metadata": {},
   "outputs": [
    {
     "data": {
      "text/latex": [
       "$\\displaystyle c_{e}$"
      ],
      "text/plain": [
       "c_e"
      ]
     },
     "execution_count": 20,
     "metadata": {},
     "output_type": "execute_result"
    }
   ],
   "source": [
    "ce"
   ]
  },
  {
   "cell_type": "code",
   "execution_count": 21,
   "id": "b072b169-d92f-4621-9fba-610312783670",
   "metadata": {},
   "outputs": [],
   "source": [
    "te = (ce/g)*m/T"
   ]
  },
  {
   "cell_type": "code",
   "execution_count": 22,
   "id": "4ac186bd-6bb8-49b2-88c7-7383d9835390",
   "metadata": {},
   "outputs": [
    {
     "data": {
      "text/latex": [
       "$\\displaystyle \\frac{0.101936799184506 c_{e} \\tilde{m}_{f}}{\\tilde{T}}$"
      ],
      "text/plain": [
       "0.101936799184506*c_e*mtilde_f/Ttilde"
      ]
     },
     "execution_count": 22,
     "metadata": {},
     "output_type": "execute_result"
    }
   ],
   "source": [
    "te"
   ]
  },
  {
   "cell_type": "code",
   "execution_count": 23,
   "id": "e3409675-3890-4483-8cb2-ea478573a37e",
   "metadata": {},
   "outputs": [],
   "source": [
    "h = 100000/(te*te*g)"
   ]
  },
  {
   "cell_type": "code",
   "execution_count": 24,
   "id": "b0916591-ba90-424f-b28e-cd454968570b",
   "metadata": {},
   "outputs": [
    {
     "data": {
      "text/latex": [
       "$\\displaystyle \\frac{981000.0 \\tilde{T}^{2}}{c_{e}^{2} \\tilde{m}_{f}^{2}}$"
      ],
      "text/plain": [
       "981000.0*Ttilde**2/(c_e**2*mtilde_f**2)"
      ]
     },
     "execution_count": 24,
     "metadata": {},
     "output_type": "execute_result"
    }
   ],
   "source": [
    "h"
   ]
  },
  {
   "cell_type": "code",
   "execution_count": 25,
   "id": "81361205-db4e-40ec-bca1-a43207b64ff1",
   "metadata": {},
   "outputs": [],
   "source": [
    "sH = sh.subs(H, h)"
   ]
  },
  {
   "cell_type": "code",
   "execution_count": 26,
   "id": "9dfb4de5-77d8-4a98-9ee5-6dcc80465146",
   "metadata": {},
   "outputs": [
    {
     "data": {
      "text/latex": [
       "$\\displaystyle \\frac{1.01936799184506 \\cdot 10^{-6} c_{e}^{2} \\left(\\frac{\\tilde{T}^{2} \\log{\\left(1 - \\tilde{m}_{f} \\right)}^{2}}{2} + \\tilde{T} \\tilde{m}_{f} + \\tilde{T} \\log{\\left(1 - \\tilde{m}_{f} \\right)} - \\frac{\\tilde{m}_{f}^{2}}{2}\\right)}{\\tilde{T}^{2}}$"
      ],
      "text/plain": [
       "1.01936799184506e-6*c_e**2*(Ttilde**2*log(1 - mtilde_f)**2/2 + Ttilde*mtilde_f + Ttilde*log(1 - mtilde_f) - mtilde_f**2/2)/Ttilde**2"
      ]
     },
     "execution_count": 26,
     "metadata": {},
     "output_type": "execute_result"
    }
   ],
   "source": [
    "sH"
   ]
  },
  {
   "cell_type": "code",
   "execution_count": 27,
   "id": "39f0f515-a440-4898-9bcb-cf5a81af05e6",
   "metadata": {},
   "outputs": [],
   "source": [
    "f = lambdify((T, m, ce), sH, \"numpy\")"
   ]
  },
  {
   "cell_type": "code",
   "execution_count": 28,
   "id": "acf75993-12e3-41bc-96ea-5899d9609c18",
   "metadata": {},
   "outputs": [
    {
     "data": {
      "text/plain": [
       "1.9007370304161637"
      ]
     },
     "execution_count": 28,
     "metadata": {},
     "output_type": "execute_result"
    }
   ],
   "source": [
    "f(2, 0.65, 2500)"
   ]
  },
  {
   "cell_type": "code",
   "execution_count": 29,
   "id": "7f928724-97f2-4a96-9b03-a97d37279866",
   "metadata": {},
   "outputs": [],
   "source": [
    "def penal(T, mf):\n",
    "    return (T + 5*mf)"
   ]
  },
  {
   "cell_type": "code",
   "execution_count": 30,
   "id": "36a6471f-00ce-41f9-b569-95917dc1387e",
   "metadata": {},
   "outputs": [
    {
     "name": "stdout",
     "output_type": "stream",
     "text": [
      "1.5222222222222224 0.6444444444444445 1.2046225358951406\n"
     ]
    }
   ],
   "source": [
    "Tr = np.linspace(1.1, 3, 10)\n",
    "mf = np.linspace(0.1, 0.8, 10)\n",
    "ce = 2500\n",
    "\n",
    "Tbest = 3\n",
    "mfbest = 0.7\n",
    "sbes = 0\n",
    "\n",
    "for i in range(len(Tr)):\n",
    "    r = []\n",
    "    for k in range(len(mf)):\n",
    "        if f(Tr[i], mf[k], ce) > 1.0:\n",
    "            if penal(Tbest, mfbest) > penal(Tr[i], mf[k]):\n",
    "                Tbest = Tr[i]\n",
    "                mfbest = mf[k]\n",
    "                sbes = f(Tr[i], mf[k], ce)\n",
    "                \n",
    "print(Tbest, mfbest, sbes)"
   ]
  },
  {
   "cell_type": "code",
   "execution_count": null,
   "id": "5d4a7dc9-077e-44ed-a66f-8b180467756c",
   "metadata": {},
   "outputs": [],
   "source": []
  }
 ],
 "metadata": {
  "kernelspec": {
   "display_name": "Python 3 (ipykernel)",
   "language": "python",
   "name": "python3"
  },
  "language_info": {
   "codemirror_mode": {
    "name": "ipython",
    "version": 3
   },
   "file_extension": ".py",
   "mimetype": "text/x-python",
   "name": "python",
   "nbconvert_exporter": "python",
   "pygments_lexer": "ipython3",
   "version": "3.10.6"
  }
 },
 "nbformat": 4,
 "nbformat_minor": 5
}
