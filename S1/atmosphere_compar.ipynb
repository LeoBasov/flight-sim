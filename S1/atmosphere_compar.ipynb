{
 "cells": [
  {
   "cell_type": "code",
   "execution_count": 1,
   "id": "0b71cb66-fcfd-46de-a134-c66e7ace8556",
   "metadata": {},
   "outputs": [],
   "source": [
    "import atmosphere\n",
    "import numpy as np\n",
    "import matplotlib.pyplot as plt\n",
    "from sympy import *\n",
    "\n",
    "atm = atmosphere.Atmosphere()"
   ]
  },
  {
   "cell_type": "code",
   "execution_count": 27,
   "id": "f5e7b543-001c-4213-aecb-d0e4b4ad4f29",
   "metadata": {},
   "outputs": [],
   "source": [
    "rho, rho_0, n, htilde, h= symbols(\"rhotilde rhotilde_0 n htilde h\")"
   ]
  },
  {
   "cell_type": "code",
   "execution_count": 28,
   "id": "52e21dfe-ceb7-46b0-81fa-c35b4f89f4ac",
   "metadata": {},
   "outputs": [],
   "source": [
    "rho = (1 - ((n-1)/n)*(h/htilde))**(1/(n - 1))"
   ]
  },
  {
   "cell_type": "code",
   "execution_count": 29,
   "id": "9947e342-bc51-4218-9b1a-2efb793d0cb8",
   "metadata": {},
   "outputs": [
    {
     "data": {
      "text/latex": [
       "$\\displaystyle \\left(- \\frac{h \\left(n - 1\\right)}{\\tilde{h} n} + 1\\right)^{\\frac{1}{n - 1}}$"
      ],
      "text/plain": [
       "(-h*(n - 1)/(htilde*n) + 1)**(1/(n - 1))"
      ]
     },
     "execution_count": 29,
     "metadata": {},
     "output_type": "execute_result"
    }
   ],
   "source": [
    "rho"
   ]
  },
  {
   "cell_type": "code",
   "execution_count": 30,
   "id": "0427b2f1-b836-4d63-af97-b2c83d052f8c",
   "metadata": {},
   "outputs": [],
   "source": [
    "drho = diff(rho, h)"
   ]
  },
  {
   "cell_type": "code",
   "execution_count": 31,
   "id": "456f4229-3c7c-4bec-8c82-4308f2a74daa",
   "metadata": {},
   "outputs": [
    {
     "data": {
      "text/latex": [
       "$\\displaystyle - \\frac{\\left(- \\frac{h \\left(n - 1\\right)}{\\tilde{h} n} + 1\\right)^{\\frac{1}{n - 1}}}{\\tilde{h} n \\left(- \\frac{h \\left(n - 1\\right)}{\\tilde{h} n} + 1\\right)}$"
      ],
      "text/plain": [
       "-(-h*(n - 1)/(htilde*n) + 1)**(1/(n - 1))/(htilde*n*(-h*(n - 1)/(htilde*n) + 1))"
      ]
     },
     "execution_count": 31,
     "metadata": {},
     "output_type": "execute_result"
    }
   ],
   "source": [
    "drho"
   ]
  },
  {
   "cell_type": "code",
   "execution_count": 32,
   "id": "d0f3f139-2cd0-4109-96f8-6f405eda5da2",
   "metadata": {},
   "outputs": [],
   "source": [
    "ddrho = diff(drho, h)"
   ]
  },
  {
   "cell_type": "code",
   "execution_count": 33,
   "id": "2ac131f7-9571-4609-adcb-cb77d6e4aadc",
   "metadata": {},
   "outputs": [
    {
     "data": {
      "text/latex": [
       "$\\displaystyle - \\frac{\\left(n - 1\\right) \\left(- \\frac{h \\left(n - 1\\right)}{\\tilde{h} n} + 1\\right)^{\\frac{1}{n - 1}}}{\\tilde{h}^{2} n^{2} \\left(- \\frac{h \\left(n - 1\\right)}{\\tilde{h} n} + 1\\right)^{2}} + \\frac{\\left(- \\frac{h \\left(n - 1\\right)}{\\tilde{h} n} + 1\\right)^{\\frac{1}{n - 1}}}{\\tilde{h}^{2} n^{2} \\left(- \\frac{h \\left(n - 1\\right)}{\\tilde{h} n} + 1\\right)^{2}}$"
      ],
      "text/plain": [
       "-(n - 1)*(-h*(n - 1)/(htilde*n) + 1)**(1/(n - 1))/(htilde**2*n**2*(-h*(n - 1)/(htilde*n) + 1)**2) + (-h*(n - 1)/(htilde*n) + 1)**(1/(n - 1))/(htilde**2*n**2*(-h*(n - 1)/(htilde*n) + 1)**2)"
      ]
     },
     "execution_count": 33,
     "metadata": {},
     "output_type": "execute_result"
    }
   ],
   "source": [
    "ddrho"
   ]
  },
  {
   "cell_type": "code",
   "execution_count": 34,
   "id": "1807d715-be31-4b09-8ccb-8423ea36cbbe",
   "metadata": {},
   "outputs": [
    {
     "data": {
      "text/latex": [
       "$\\displaystyle - \\frac{n - 1}{\\tilde{h}^{2} n^{2}} + \\frac{1}{\\tilde{h}^{2} n^{2}}$"
      ],
      "text/plain": [
       "-(n - 1)/(htilde**2*n**2) + 1/(htilde**2*n**2)"
      ]
     },
     "execution_count": 34,
     "metadata": {},
     "output_type": "execute_result"
    }
   ],
   "source": [
    "ddrho.subs(h, 0)"
   ]
  },
  {
   "cell_type": "code",
   "execution_count": 41,
   "id": "40fe254d-10e7-439b-bd7b-a50f5a863475",
   "metadata": {},
   "outputs": [],
   "source": [
    "Trho = rho.subs(h,0) + drho.subs(h,0)*(h) + Rational(1, 2)*ddrho.subs(h, 0)*h**2"
   ]
  },
  {
   "cell_type": "code",
   "execution_count": 42,
   "id": "3802bfc9-0f5a-41a1-81de-9e2571e3b350",
   "metadata": {},
   "outputs": [
    {
     "data": {
      "text/latex": [
       "$\\displaystyle h^{2} \\left(- \\frac{n - 1}{2 \\tilde{h}^{2} n^{2}} + \\frac{1}{2 \\tilde{h}^{2} n^{2}}\\right) - \\frac{h}{\\tilde{h} n} + 1$"
      ],
      "text/plain": [
       "h**2*(-(n - 1)/(2*htilde**2*n**2) + 1/(2*htilde**2*n**2)) - h/(htilde*n) + 1"
      ]
     },
     "execution_count": 42,
     "metadata": {},
     "output_type": "execute_result"
    }
   ],
   "source": [
    "Trho"
   ]
  },
  {
   "cell_type": "code",
   "execution_count": 43,
   "id": "dab0e2de-bf9f-4275-8103-888672dbf16c",
   "metadata": {},
   "outputs": [
    {
     "data": {
      "text/latex": [
       "$\\displaystyle 0.5441115122359$"
      ],
      "text/plain": [
       "0.544111512235900"
      ]
     },
     "execution_count": 43,
     "metadata": {},
     "output_type": "execute_result"
    }
   ],
   "source": [
    "Trho.subs(h, 11000).subs(n, 1.235).subs(rho_0, 1.235).subs(htilde, 1/(9e-5))*1.225"
   ]
  },
  {
   "cell_type": "code",
   "execution_count": 44,
   "id": "d78b7df4-5e49-49b6-be5a-675faef82198",
   "metadata": {},
   "outputs": [
    {
     "data": {
      "text/latex": [
       "$\\displaystyle 2$"
      ],
      "text/plain": [
       "2"
      ]
     },
     "execution_count": 44,
     "metadata": {},
     "output_type": "execute_result"
    }
   ],
   "source": [
    "factorial(2)"
   ]
  },
  {
   "cell_type": "code",
   "execution_count": 45,
   "id": "127796ec-5562-406c-9601-874b505e7e11",
   "metadata": {},
   "outputs": [
    {
     "data": {
      "text/plain": [
       "1.6666666666666667"
      ]
     },
     "execution_count": 45,
     "metadata": {},
     "output_type": "execute_result"
    }
   ],
   "source": [
    "0.5/0.3"
   ]
  },
  {
   "cell_type": "code",
   "execution_count": null,
   "id": "22852b26-9358-4f00-9029-83775a1a3763",
   "metadata": {},
   "outputs": [],
   "source": []
  }
 ],
 "metadata": {
  "kernelspec": {
   "display_name": "Python 3 (ipykernel)",
   "language": "python",
   "name": "python3"
  },
  "language_info": {
   "codemirror_mode": {
    "name": "ipython",
    "version": 3
   },
   "file_extension": ".py",
   "mimetype": "text/x-python",
   "name": "python",
   "nbconvert_exporter": "python",
   "pygments_lexer": "ipython3",
   "version": "3.8.10"
  }
 },
 "nbformat": 4,
 "nbformat_minor": 5
}
